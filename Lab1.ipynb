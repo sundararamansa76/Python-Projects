{
  "nbformat": 4,
  "nbformat_minor": 0,
  "metadata": {
    "colab": {
      "name": "Lab1.ipynb",
      "provenance": [],
      "authorship_tag": "ABX9TyNw46xRlZ88ya4oUTfKpznN",
      "include_colab_link": true
    },
    "kernelspec": {
      "name": "python3",
      "display_name": "Python 3"
    }
  },
  "cells": [
    {
      "cell_type": "markdown",
      "metadata": {
        "id": "view-in-github",
        "colab_type": "text"
      },
      "source": [
        "<a href=\"https://colab.research.google.com/github/sundararamansa76/Python-Projects/blob/master/Lab1.ipynb\" target=\"_parent\"><img src=\"https://colab.research.google.com/assets/colab-badge.svg\" alt=\"Open In Colab\"/></a>"
      ]
    },
    {
      "cell_type": "code",
      "metadata": {
        "id": "2D_9VRXQq287",
        "colab_type": "code",
        "colab": {
          "base_uri": "https://localhost:8080/",
          "height": 34
        },
        "outputId": "b87bccee-ad48-4934-9ff0-7b65200e4d24"
      },
      "source": [
        "2 + 2"
      ],
      "execution_count": 1,
      "outputs": [
        {
          "output_type": "execute_result",
          "data": {
            "text/plain": [
              "4"
            ]
          },
          "metadata": {
            "tags": []
          },
          "execution_count": 1
        }
      ]
    },
    {
      "cell_type": "code",
      "metadata": {
        "id": "Pu_ildqxq-8x",
        "colab_type": "code",
        "colab": {
          "base_uri": "https://localhost:8080/",
          "height": 34
        },
        "outputId": "394889d4-e8d0-4057-872f-95ebdfae2358"
      },
      "source": [
        "x = 5\n",
        "y = 2\n",
        "print (x % y)"
      ],
      "execution_count": 2,
      "outputs": [
        {
          "output_type": "stream",
          "text": [
            "1\n"
          ],
          "name": "stdout"
        }
      ]
    },
    {
      "cell_type": "code",
      "metadata": {
        "id": "ZGKlnusyrMnd",
        "colab_type": "code",
        "colab": {
          "base_uri": "https://localhost:8080/",
          "height": 34
        },
        "outputId": "8c55f4f5-1915-4a62-9198-1e14ca170dab"
      },
      "source": [
        "x = 10\n",
        "type(x)"
      ],
      "execution_count": 3,
      "outputs": [
        {
          "output_type": "execute_result",
          "data": {
            "text/plain": [
              "int"
            ]
          },
          "metadata": {
            "tags": []
          },
          "execution_count": 3
        }
      ]
    },
    {
      "cell_type": "code",
      "metadata": {
        "id": "Cw-asxRRrPWo",
        "colab_type": "code",
        "colab": {
          "base_uri": "https://localhost:8080/",
          "height": 34
        },
        "outputId": "72cc7b01-ec16-4dce-a664-66427307f102"
      },
      "source": [
        "y = 5.2\n",
        "type(y)"
      ],
      "execution_count": 4,
      "outputs": [
        {
          "output_type": "execute_result",
          "data": {
            "text/plain": [
              "float"
            ]
          },
          "metadata": {
            "tags": []
          },
          "execution_count": 4
        }
      ]
    },
    {
      "cell_type": "code",
      "metadata": {
        "id": "Z-TC21w8rVVY",
        "colab_type": "code",
        "colab": {
          "base_uri": "https://localhost:8080/",
          "height": 34
        },
        "outputId": "3b033023-2201-4511-92d8-2690cf0ad075"
      },
      "source": [
        "x = 5\n",
        "isinstance(x, int)"
      ],
      "execution_count": 6,
      "outputs": [
        {
          "output_type": "execute_result",
          "data": {
            "text/plain": [
              "True"
            ]
          },
          "metadata": {
            "tags": []
          },
          "execution_count": 6
        }
      ]
    },
    {
      "cell_type": "code",
      "metadata": {
        "id": "q3MbNysFrf5S",
        "colab_type": "code",
        "colab": {
          "base_uri": "https://localhost:8080/",
          "height": 34
        },
        "outputId": "46945dfb-11f7-460d-ddaa-7742dd036661"
      },
      "source": [
        "name = \"SundaraRaman \"\n",
        "name = name * 3\n",
        "print (name)"
      ],
      "execution_count": 9,
      "outputs": [
        {
          "output_type": "stream",
          "text": [
            "SundaraRaman SundaraRaman SundaraRaman \n"
          ],
          "name": "stdout"
        }
      ]
    },
    {
      "cell_type": "code",
      "metadata": {
        "id": "z-kNIQdir6-i",
        "colab_type": "code",
        "colab": {
          "base_uri": "https://localhost:8080/",
          "height": 51
        },
        "outputId": "ff0bfb12-abbd-4b8a-e65f-a9d92003cca8"
      },
      "source": [
        "print (name)\n",
        "len(name)"
      ],
      "execution_count": 11,
      "outputs": [
        {
          "output_type": "stream",
          "text": [
            "SundaraRaman SundaraRaman SundaraRaman \n"
          ],
          "name": "stdout"
        },
        {
          "output_type": "execute_result",
          "data": {
            "text/plain": [
              "39"
            ]
          },
          "metadata": {
            "tags": []
          },
          "execution_count": 11
        }
      ]
    },
    {
      "cell_type": "code",
      "metadata": {
        "id": "2sa-EkNlsI77",
        "colab_type": "code",
        "colab": {
          "base_uri": "https://localhost:8080/",
          "height": 51
        },
        "outputId": "4c366389-4b06-4dd4-a218-d38394c9501e"
      },
      "source": [
        "x = 5.1234\n",
        "print(\"The value is {}\".format(x))\n",
        "print(\"The Value is {:.3f}\".format(x))"
      ],
      "execution_count": 14,
      "outputs": [
        {
          "output_type": "stream",
          "text": [
            "The value is 5.1234\n",
            "The Value is 5.123\n"
          ],
          "name": "stdout"
        }
      ]
    },
    {
      "cell_type": "code",
      "metadata": {
        "id": "ugGLxdK2snKl",
        "colab_type": "code",
        "colab": {
          "base_uri": "https://localhost:8080/",
          "height": 274
        },
        "outputId": "9049bfd7-3a6e-4f62-ad38-fa24b57240f9"
      },
      "source": [
        "weekdays = [\"Sunday\", \"Monday\", \"Tuesday\", \"wednesday\", \"Thursday\", \"Friday\", \"Saturday\"]\n",
        "print (weekdays)\n",
        "for x in weekdays:\n",
        "  print (x)\n",
        "  print (\"Very Good\")"
      ],
      "execution_count": 18,
      "outputs": [
        {
          "output_type": "stream",
          "text": [
            "['Sunday', 'Monday', 'Tuesday', 'wednesday', 'Thursday', 'Friday', 'Saturday']\n",
            "Sunday\n",
            "Very Good\n",
            "Monday\n",
            "Very Good\n",
            "Tuesday\n",
            "Very Good\n",
            "wednesday\n",
            "Very Good\n",
            "Thursday\n",
            "Very Good\n",
            "Friday\n",
            "Very Good\n",
            "Saturday\n",
            "Very Good\n"
          ],
          "name": "stdout"
        }
      ]
    },
    {
      "cell_type": "code",
      "metadata": {
        "id": "genvqlBitFev",
        "colab_type": "code",
        "colab": {
          "base_uri": "https://localhost:8080/",
          "height": 51
        },
        "outputId": "d1450745-ed54-4c61-d5d0-8d7668e2e4d8"
      },
      "source": [
        "print(weekdays[:3])\n",
        "print(weekdays[4:])"
      ],
      "execution_count": 26,
      "outputs": [
        {
          "output_type": "stream",
          "text": [
            "['Sunday', 'Monday', 'Tuesday']\n",
            "['Thursday', 'Friday', 'Saturday']\n"
          ],
          "name": "stdout"
        }
      ]
    },
    {
      "cell_type": "code",
      "metadata": {
        "id": "qOMuFaLXtboG",
        "colab_type": "code",
        "colab": {
          "base_uri": "https://localhost:8080/",
          "height": 34
        },
        "outputId": "6c107523-2509-4782-bb50-3de049108c39"
      },
      "source": [
        "type(weekdays[5])"
      ],
      "execution_count": 27,
      "outputs": [
        {
          "output_type": "execute_result",
          "data": {
            "text/plain": [
              "str"
            ]
          },
          "metadata": {
            "tags": []
          },
          "execution_count": 27
        }
      ]
    },
    {
      "cell_type": "code",
      "metadata": {
        "id": "ZNbOIbObthKG",
        "colab_type": "code",
        "colab": {
          "base_uri": "https://localhost:8080/",
          "height": 54
        },
        "outputId": "cc78b3ba-f46f-4d57-a6b9-06b6a32ed132"
      },
      "source": [
        "weekdays.append(\"Hari bol\")\n",
        "print(weekdays)"
      ],
      "execution_count": 29,
      "outputs": [
        {
          "output_type": "stream",
          "text": [
            "['Sunday', 'Monday', 'Tuesday', 'wednesday', 'Thursday', 'Friday', 'Saturday', 'Hari bol', 'Hari bol']\n"
          ],
          "name": "stdout"
        }
      ]
    },
    {
      "cell_type": "code",
      "metadata": {
        "id": "BInjDBCEtnkw",
        "colab_type": "code",
        "colab": {
          "base_uri": "https://localhost:8080/",
          "height": 54
        },
        "outputId": "a4faf8d0-92e3-4015-a406-cc7dbab02c05"
      },
      "source": [
        "weekdays.remove(\"Hari bol\")\n",
        "print(weekdays)"
      ],
      "execution_count": 30,
      "outputs": [
        {
          "output_type": "stream",
          "text": [
            "['Sunday', 'Monday', 'Tuesday', 'wednesday', 'Thursday', 'Friday', 'Saturday', 'Hari bol']\n"
          ],
          "name": "stdout"
        }
      ]
    },
    {
      "cell_type": "code",
      "metadata": {
        "id": "dxAtm0Dmtx2H",
        "colab_type": "code",
        "colab": {
          "base_uri": "https://localhost:8080/",
          "height": 51
        },
        "outputId": "52e95a61-1980-4cda-bb83-4bd566b8d0f0"
      },
      "source": [
        "odds = [1,2,3]\n",
        "evens  = [2,4,6]\n",
        "all_nums = odds + evens\n",
        "print (all_nums)\n",
        "print (len(all_nums))"
      ],
      "execution_count": 31,
      "outputs": [
        {
          "output_type": "stream",
          "text": [
            "[1, 2, 3, 2, 4, 6]\n",
            "6\n"
          ],
          "name": "stdout"
        }
      ]
    },
    {
      "cell_type": "code",
      "metadata": {
        "id": "6h3Gx1E6uYOn",
        "colab_type": "code",
        "colab": {
          "base_uri": "https://localhost:8080/",
          "height": 68
        },
        "outputId": "2f03c9b9-b6f3-4822-e8f5-a53c0b564ad3"
      },
      "source": [
        "color = ['red', 'yellow','blue']\n",
        "for x  in color :\n",
        "  print(\"this is the color -- {}\".format(x))"
      ],
      "execution_count": 33,
      "outputs": [
        {
          "output_type": "stream",
          "text": [
            "this is the color -- red\n",
            "this is the color -- yellow\n",
            "this is the color -- blue\n"
          ],
          "name": "stdout"
        }
      ]
    },
    {
      "cell_type": "code",
      "metadata": {
        "id": "xt7gcq48ulkO",
        "colab_type": "code",
        "colab": {
          "base_uri": "https://localhost:8080/",
          "height": 103
        },
        "outputId": "f871e017-cacc-4d9a-e4bb-780bad0ec840"
      },
      "source": [
        "for n in range(5):\n",
        "  print(\"I ate {} Puris.\".format(n*2))"
      ],
      "execution_count": 35,
      "outputs": [
        {
          "output_type": "stream",
          "text": [
            "I ate 0 Puris.\n",
            "I ate 2 Puris.\n",
            "I ate 4 Puris.\n",
            "I ate 6 Puris.\n",
            "I ate 8 Puris.\n"
          ],
          "name": "stdout"
        }
      ]
    },
    {
      "cell_type": "code",
      "metadata": {
        "id": "DG81bUWzuyiI",
        "colab_type": "code",
        "colab": {
          "base_uri": "https://localhost:8080/",
          "height": 171
        },
        "outputId": "99e0588f-fa81-4f00-c3b1-95f904ab0bd2"
      },
      "source": [
        "a = 0;\n",
        "while a < 9:\n",
        "  print(\"The number a is \".format(a))\n",
        "  a +=1"
      ],
      "execution_count": 39,
      "outputs": [
        {
          "output_type": "stream",
          "text": [
            "The number a is \n",
            "The number a is \n",
            "The number a is \n",
            "The number a is \n",
            "The number a is \n",
            "The number a is \n",
            "The number a is \n",
            "The number a is \n",
            "The number a is \n"
          ],
          "name": "stdout"
        }
      ]
    },
    {
      "cell_type": "code",
      "metadata": {
        "id": "ZOZ-p64KvCHg",
        "colab_type": "code",
        "colab": {
          "base_uri": "https://localhost:8080/",
          "height": 86
        },
        "outputId": "041b74b1-ec01-4c59-d838-b6bb851b0ecf"
      },
      "source": [
        "a = 5\n",
        "b = 6\n",
        "print(a == b)\n",
        "print(a!= b)\n",
        "print(a>b)\n",
        "print(a<b)"
      ],
      "execution_count": 40,
      "outputs": [
        {
          "output_type": "stream",
          "text": [
            "False\n",
            "True\n",
            "False\n",
            "True\n"
          ],
          "name": "stdout"
        }
      ]
    },
    {
      "cell_type": "code",
      "metadata": {
        "id": "AvUxmPXAvRQw",
        "colab_type": "code",
        "colab": {
          "base_uri": "https://localhost:8080/",
          "height": 34
        },
        "outputId": "e4d9e0b1-1f80-40c0-947d-89b10f5b398c"
      },
      "source": [
        "type = 'prasad'\n",
        "\n",
        "if type == 'prasad':\n",
        "  print(\"Superb\")\n",
        "elif type == 'veg' :\n",
        "  print (\"hmm, ok\")\n",
        "elif type == 'non-veg':\n",
        "  print(\"NO no no...\")\n",
        "else:\n",
        "  print(\"Not executed\")\n"
      ],
      "execution_count": 51,
      "outputs": [
        {
          "output_type": "stream",
          "text": [
            "Superb\n"
          ],
          "name": "stdout"
        }
      ]
    },
    {
      "cell_type": "code",
      "metadata": {
        "id": "Ez-VbqDjwJvI",
        "colab_type": "code",
        "colab": {
          "base_uri": "https://localhost:8080/",
          "height": 103
        },
        "outputId": "f0cfca69-68f7-40ca-ace6-452d7efd8d01"
      },
      "source": [
        "number = [1,2,3,4,5]\n",
        "for x in number :\n",
        "  if x ==1 :\n",
        "    print (\"Hari bol\")\n",
        "  elif x %2 == 0 :\n",
        "    print (\"Hare Krsna\")\n",
        "  else :\n",
        "    print (\"Hare Rama\")\n"
      ],
      "execution_count": 55,
      "outputs": [
        {
          "output_type": "stream",
          "text": [
            "Hari bol\n",
            "Hare Krsna\n",
            "Hare Rama\n",
            "Hare Krsna\n",
            "Hare Rama\n"
          ],
          "name": "stdout"
        }
      ]
    }
  ]
}