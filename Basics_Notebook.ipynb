{
  "nbformat": 4,
  "nbformat_minor": 0,
  "metadata": {
    "colab": {
      "name": "Basics_Notebook.ipynb",
      "provenance": [],
      "authorship_tag": "ABX9TyNZIABXhZX/z4gNRCLfdNJG",
      "include_colab_link": true
    },
    "kernelspec": {
      "name": "python3",
      "display_name": "Python 3"
    }
  },
  "cells": [
    {
      "cell_type": "markdown",
      "metadata": {
        "id": "view-in-github",
        "colab_type": "text"
      },
      "source": [
        "<a href=\"https://colab.research.google.com/github/sundararamansa76/Python-Projects/blob/master/Basics_Notebook.ipynb\" target=\"_parent\"><img src=\"https://colab.research.google.com/assets/colab-badge.svg\" alt=\"Open In Colab\"/></a>"
      ]
    },
    {
      "cell_type": "code",
      "metadata": {
        "id": "05FE4mvYo-WD",
        "colab_type": "code",
        "colab": {
          "base_uri": "https://localhost:8080/",
          "height": 34
        },
        "outputId": "0c3d3a46-fa85-4678-8050-e5ae56a87912"
      },
      "source": [
        "print (\"welcome\")"
      ],
      "execution_count": 2,
      "outputs": [
        {
          "output_type": "stream",
          "text": [
            "welcome\n"
          ],
          "name": "stdout"
        }
      ]
    },
    {
      "cell_type": "code",
      "metadata": {
        "id": "_mK0LaW6pNHI",
        "colab_type": "code",
        "colab": {
          "base_uri": "https://localhost:8080/",
          "height": 34
        },
        "outputId": "73eb6571-4f81-432a-901d-7d2fd53d5e3b"
      },
      "source": [
        "second = 2\n",
        "third  = 3\n",
        "print (second * third)"
      ],
      "execution_count": 3,
      "outputs": [
        {
          "output_type": "stream",
          "text": [
            "6\n"
          ],
          "name": "stdout"
        }
      ]
    },
    {
      "cell_type": "markdown",
      "metadata": {
        "id": "OaEcBLaRpSUg",
        "colab_type": "text"
      },
      "source": [
        "Welcome to Google Colab here you can learn more about Google colab"
      ]
    },
    {
      "cell_type": "code",
      "metadata": {
        "id": "k4DkdPjhpWZf",
        "colab_type": "code",
        "colab": {
          "base_uri": "https://localhost:8080/",
          "height": 34
        },
        "outputId": "10ae3923-f9c6-4b04-ab89-29d8b96c761e"
      },
      "source": [
        "first = \"are\"\n",
        "second = \"Ram\"\n",
        "third = \"Krsna\"\n",
        "print (\"where {}  {} and {} \".format(first,second,third))"
      ],
      "execution_count": 7,
      "outputs": [
        {
          "output_type": "stream",
          "text": [
            "where are  Ram and Krsna \n"
          ],
          "name": "stdout"
        }
      ]
    },
    {
      "cell_type": "markdown",
      "metadata": {
        "id": "4rAi6KkwqbFi",
        "colab_type": "text"
      },
      "source": [
        "This is the final lesson for today\n"
      ]
    },
    {
      "cell_type": "code",
      "metadata": {
        "id": "sNbhxHcUqgO4",
        "colab_type": "code",
        "colab": {}
      },
      "source": [
        ""
      ],
      "execution_count": null,
      "outputs": []
    }
  ]
}